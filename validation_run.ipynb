{
 "cells": [
  {
   "cell_type": "markdown",
   "metadata": {},
   "source": [
    "# Run the evaluation models"
   ]
  },
  {
   "cell_type": "code",
   "execution_count": null,
   "metadata": {},
   "outputs": [],
   "source": []
  },
  {
   "cell_type": "code",
   "execution_count": null,
   "metadata": {},
   "outputs": [],
   "source": [
    "assert all(val_Y.caseid == dat_Xmap.caseid)\n",
    "\n",
    "# Note that Ben encodes the models with pd.get_dummes() so we need to add our dataframe to the bottom of df_X\n",
    "dat_X = pd.get_dummies(pd.concat([df_X, dat_Xmap.assign(operyr=val_Y.operyr.values)],0))\n",
    "# dat_X = pd.get_dummies(df_X)\n",
    "dat_X['cpt'] = 'c' + dat_X.cpt.astype(str)\n",
    "cn_X = list(dat_X.columns[2:])\n",
    "assert dat_X[cn_X].shape[1] == 109\n",
    "# Subset to our participants\n",
    "dat_X_Xmap = dat_X.iloc[df_X.shape[0]:]\n",
    "assert all(dat_X_Xmap.caseid == dat_Xmap.caseid)\n",
    "\n",
    "# Make a copy of the CPTs and then remove\n",
    "Xtest_SK = dat_X_Xmap[cn_X]\n",
    "cpt_SK = Xtest_SK.cpt.values\n",
    "del Xtest_SK['cpt']"
   ]
  },
  {
   "cell_type": "code",
   "execution_count": null,
   "metadata": {},
   "outputs": [],
   "source": []
  },
  {
   "cell_type": "code",
   "execution_count": null,
   "metadata": {},
   "outputs": [],
   "source": []
  }
 ],
 "metadata": {
  "kernelspec": {
   "display_name": "Python 3",
   "language": "python",
   "name": "python3"
  },
  "language_info": {
   "codemirror_mode": {
    "name": "ipython",
    "version": 3
   },
   "file_extension": ".py",
   "mimetype": "text/x-python",
   "name": "python",
   "nbconvert_exporter": "python",
   "pygments_lexer": "ipython3",
   "version": "3.7.1"
  }
 },
 "nbformat": 4,
 "nbformat_minor": 2
}
