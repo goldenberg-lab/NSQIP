{
 "cells": [
  {
   "cell_type": "code",
   "execution_count": 1,
   "metadata": {},
   "outputs": [],
   "source": [
    "import numpy as np\n",
    "import pandas as pd\n",
    "from scipy import stats\n",
    "import plotnine\n",
    "from plotnine import *\n",
    "import seaborn as sns\n",
    "import matplotlib.pyplot as plt\n",
    "from time import time\n",
    "\n",
    "# file:///C:/Users/ERIKDR~1/AppData/Local/Temp/AgahiMaryam2013.pdf\n",
    "# https://stats.stackexchange.com/questions/353834/theoretical-computation-kendalls-tau"
   ]
  },
  {
   "cell_type": "code",
   "execution_count": 2,
   "metadata": {},
   "outputs": [],
   "source": [
    "def sigmoid(x):\n",
    "    return 1 / (1 + np.exp(-x))\n",
    "\n",
    "def rvec(x):\n",
    "    return np.atleast_2d(x)\n",
    "\n",
    "def cvec(x):\n",
    "    return rvec(x).T\n",
    "\n",
    "def to_3d(mat):\n",
    "    return np.atleast_3d(mat).transpose(2,0,1)\n",
    "\n",
    "def srho(x,y):\n",
    "    return stats.spearmanr(x,y)[0]\n",
    "\n",
    "\"\"\"\n",
    "VECTORIZED PAIRWISE CORRELATION\n",
    "A : (n x p x s)\n",
    "n: sample size (rows of the data)\n",
    "p: columns of the data (could be bootstrapped columns)\n",
    "s: copies of the n x p matrix (could be studentized copies)\n",
    "\"\"\"\n",
    "\n",
    "def pairwise_cor(A, B):\n",
    "    assert A.shape == B.shape\n",
    "    n = A.shape[0]\n",
    "    if (len(A.shape) == 2):\n",
    "        mu_A, mu_B = rvec(A.mean(0)), rvec(B.mean(0))\n",
    "        se_A, se_B = A.std(axis=0,ddof=1), B.std(axis=0,ddof=1)\n",
    "    else:\n",
    "        mu_A, mu_B = to_3d(A.mean(0)), to_3d(B.mean(axis=0))\n",
    "        se_A, se_B = A.std(axis=0,ddof=1), B.std(axis=0,ddof=1)\n",
    "    D = np.sum((A - mu_A) * (B - mu_B),0) / (n-1)\n",
    "    return D / (se_A*se_B)\n",
    "\n",
    "def bs_student_spearman(x, y, n_bs, n_s, alpha=0.05):\n",
    "    # alpha = rvec([0.05, 0.1, 0.2])\n",
    "    tt = ['student','normal','quant']\n",
    "    if isinstance(alpha, float) | isinstance(alpha,list):\n",
    "        alpha = np.array([alpha])\n",
    "    alpha = rvec(alpha)\n",
    "    assert len(x) == len(y)\n",
    "    assert np.all(alpha > 0) & np.all(alpha < 0.5)\n",
    "    # (i) Get baseline statistic\n",
    "    rho = stats.spearmanr(x, y)[0]\n",
    "    n = len(x)\n",
    "    pvals = np.r_[alpha/2,1-alpha/2].T\n",
    "    # (ii) Transform data into ranks and sample with replacement\n",
    "    x_r, y_r = stats.rankdata(x), stats.rankdata(y)\n",
    "    x_bs = pd.Series(x_r).sample(frac=n_bs,replace=True)\n",
    "    y_bs = pd.Series(y_r).iloc[x_bs.index]\n",
    "    x_bs = x_bs.values.reshape([n,n_bs])\n",
    "    y_bs = y_bs.values.reshape([n,n_bs])\n",
    "    rho_bs = pairwise_cor(x_bs, y_bs)\n",
    "    se_bs = rho_bs.std(ddof=1)\n",
    "    # (iii) Bootstrap the bootstraps (studentize) to get standard error\n",
    "    x_s = pd.DataFrame(x_bs).sample(frac=n_s,replace=True)\n",
    "    y_s = pd.DataFrame(y_bs).iloc[x_s.index]\n",
    "    x_s = x_s.values.reshape([n_s,n,n_bs]).transpose(1,2,0)\n",
    "    y_s = y_s.values.reshape([n_s,n,n_bs]).transpose(1,2,0)\n",
    "    se_s = pairwise_cor(x_s, y_s).std(axis=1,ddof=1)\n",
    "    del x_s, y_s\n",
    "    # Get the confidence intervals for the different approaches\n",
    "    z_q = np.quantile(rho_bs,pvals.flat).reshape(pvals.shape)\n",
    "    z_n = stats.norm.ppf(pvals)\n",
    "    t_s = (rho_bs-rho)/se_s\n",
    "    z_s = np.quantile(t_s,pvals.flat).reshape(pvals.shape)\n",
    "    df = pd.DataFrame(np.r_[rho - se_bs*z_s[:,[1,0]], rho - se_bs*z_n[:,[1,0]], z_q],columns=['lb','ub'])\n",
    "    df = df.assign(tt=np.repeat(tt,len(pvals)),alpha=np.tile(2*pvals[:,0],len(tt)))\n",
    "    return df"
   ]
  },
  {
   "cell_type": "code",
   "execution_count": 5,
   "metadata": {},
   "outputs": [
    {
     "name": "stdout",
     "output_type": "stream",
     "text": [
      "ETA: 561 seconds (100 of 1000)\n",
      "ETA: 490 seconds (200 of 1000)\n",
      "ETA: 405 seconds (300 of 1000)\n",
      "ETA: 337 seconds (400 of 1000)\n",
      "ETA: 283 seconds (500 of 1000)\n",
      "ETA: 227 seconds (600 of 1000)\n",
      "ETA: 169 seconds (700 of 1000)\n",
      "ETA: 111 seconds (800 of 1000)\n",
      "ETA: 54 seconds (900 of 1000)\n",
      "ETA: 0 seconds (1000 of 1000)\n"
     ]
    }
   ],
   "source": [
    "seed = 1234\n",
    "nsim, n = 1000, 100\n",
    "n_bs, n_s = 500, 500\n",
    "np.random.seed(seed)\n",
    "\n",
    "x_gt = np.random.randn(int(1e7))\n",
    "y_gt = stats.norm.cdf(x_gt) + np.random.rand(len(x_gt))\n",
    "rho_gt = stats.spearmanr(x_gt, y_gt)[0]\n",
    "\n",
    "stime = time()\n",
    "holder = [] #np.zeros([nsim, 3])\n",
    "for i in range(nsim):\n",
    "    x = np.random.randn(n)\n",
    "    y = stats.norm.cdf(x) + np.random.rand(n)\n",
    "    tmp_df = bs_student_spearman(x, y, n_bs=500, n_s=500, alpha=[0.05, 0.10, 0.2])\n",
    "    holder.append(tmp_df.assign(idx=i))\n",
    "    if (i + 1) % 100 == 0:        \n",
    "        nleft, nsec = nsim - (i+1), time() - stime\n",
    "        rate = (i+1) / nsec\n",
    "        eta = nleft / rate\n",
    "        print('ETA: %i seconds (%i of %i)' % (eta, i+1, nsim))"
   ]
  },
  {
   "cell_type": "code",
   "execution_count": 6,
   "metadata": {},
   "outputs": [],
   "source": [
    "df_sim = pd.concat(holder).reset_index(None, True)"
   ]
  },
  {
   "cell_type": "code",
   "execution_count": 7,
   "metadata": {},
   "outputs": [
    {
     "data": {
      "text/html": [
       "<div>\n",
       "<style scoped>\n",
       "    .dataframe tbody tr th:only-of-type {\n",
       "        vertical-align: middle;\n",
       "    }\n",
       "\n",
       "    .dataframe tbody tr th {\n",
       "        vertical-align: top;\n",
       "    }\n",
       "\n",
       "    .dataframe thead th {\n",
       "        text-align: right;\n",
       "    }\n",
       "</style>\n",
       "<table border=\"1\" class=\"dataframe\">\n",
       "  <thead>\n",
       "    <tr style=\"text-align: right;\">\n",
       "      <th>alpha</th>\n",
       "      <th>0.05</th>\n",
       "      <th>0.10</th>\n",
       "      <th>0.20</th>\n",
       "    </tr>\n",
       "    <tr>\n",
       "      <th>tt</th>\n",
       "      <th></th>\n",
       "      <th></th>\n",
       "      <th></th>\n",
       "    </tr>\n",
       "  </thead>\n",
       "  <tbody>\n",
       "    <tr>\n",
       "      <th>normal</th>\n",
       "      <td>0.942</td>\n",
       "      <td>0.886</td>\n",
       "      <td>0.788</td>\n",
       "    </tr>\n",
       "    <tr>\n",
       "      <th>quant</th>\n",
       "      <td>0.936</td>\n",
       "      <td>0.890</td>\n",
       "      <td>0.786</td>\n",
       "    </tr>\n",
       "    <tr>\n",
       "      <th>student</th>\n",
       "      <td>0.937</td>\n",
       "      <td>0.897</td>\n",
       "      <td>0.793</td>\n",
       "    </tr>\n",
       "  </tbody>\n",
       "</table>\n",
       "</div>"
      ],
      "text/plain": [
       "alpha     0.05   0.10   0.20\n",
       "tt                          \n",
       "normal   0.942  0.886  0.788\n",
       "quant    0.936  0.890  0.786\n",
       "student  0.937  0.897  0.793"
      ]
     },
     "execution_count": 7,
     "metadata": {},
     "output_type": "execute_result"
    }
   ],
   "source": [
    "dat_cov = df_sim.groupby(['tt','alpha']).apply(lambda x: np.mean((x.lb<=rho_gt) & (x.ub>=rho_gt))).reset_index()\n",
    "dat_cov.rename(columns={0:'coverage'},inplace=True)\n",
    "dat_cov.pivot('tt','alpha','coverage')"
   ]
  },
  {
   "cell_type": "code",
   "execution_count": 8,
   "metadata": {},
   "outputs": [
    {
     "data": {
      "text/html": [
       "<div>\n",
       "<style scoped>\n",
       "    .dataframe tbody tr th:only-of-type {\n",
       "        vertical-align: middle;\n",
       "    }\n",
       "\n",
       "    .dataframe tbody tr th {\n",
       "        vertical-align: top;\n",
       "    }\n",
       "\n",
       "    .dataframe thead th {\n",
       "        text-align: right;\n",
       "    }\n",
       "</style>\n",
       "<table border=\"1\" class=\"dataframe\">\n",
       "  <thead>\n",
       "    <tr style=\"text-align: right;\">\n",
       "      <th></th>\n",
       "      <th></th>\n",
       "      <th>err_lb</th>\n",
       "      <th>err_ub</th>\n",
       "      <th>lb</th>\n",
       "      <th>ub</th>\n",
       "    </tr>\n",
       "    <tr>\n",
       "      <th>alpha</th>\n",
       "      <th>tt</th>\n",
       "      <th></th>\n",
       "      <th></th>\n",
       "      <th></th>\n",
       "      <th></th>\n",
       "    </tr>\n",
       "  </thead>\n",
       "  <tbody>\n",
       "    <tr>\n",
       "      <th rowspan=\"3\" valign=\"top\">0.05</th>\n",
       "      <th>normal</th>\n",
       "      <td>0.030</td>\n",
       "      <td>0.028</td>\n",
       "      <td>0.603083</td>\n",
       "      <td>0.785184</td>\n",
       "    </tr>\n",
       "    <tr>\n",
       "      <th>quant</th>\n",
       "      <td>0.022</td>\n",
       "      <td>0.042</td>\n",
       "      <td>0.596081</td>\n",
       "      <td>0.776209</td>\n",
       "    </tr>\n",
       "    <tr>\n",
       "      <th>student</th>\n",
       "      <td>0.015</td>\n",
       "      <td>0.048</td>\n",
       "      <td>0.588746</td>\n",
       "      <td>0.774657</td>\n",
       "    </tr>\n",
       "    <tr>\n",
       "      <th rowspan=\"3\" valign=\"top\">0.10</th>\n",
       "      <th>normal</th>\n",
       "      <td>0.062</td>\n",
       "      <td>0.052</td>\n",
       "      <td>0.617722</td>\n",
       "      <td>0.770546</td>\n",
       "    </tr>\n",
       "    <tr>\n",
       "      <th>quant</th>\n",
       "      <td>0.049</td>\n",
       "      <td>0.061</td>\n",
       "      <td>0.613212</td>\n",
       "      <td>0.764671</td>\n",
       "    </tr>\n",
       "    <tr>\n",
       "      <th>student</th>\n",
       "      <td>0.040</td>\n",
       "      <td>0.063</td>\n",
       "      <td>0.607300</td>\n",
       "      <td>0.762554</td>\n",
       "    </tr>\n",
       "    <tr>\n",
       "      <th rowspan=\"3\" valign=\"top\">0.20</th>\n",
       "      <th>normal</th>\n",
       "      <td>0.110</td>\n",
       "      <td>0.102</td>\n",
       "      <td>0.634599</td>\n",
       "      <td>0.753669</td>\n",
       "    </tr>\n",
       "    <tr>\n",
       "      <th>quant</th>\n",
       "      <td>0.104</td>\n",
       "      <td>0.110</td>\n",
       "      <td>0.632474</td>\n",
       "      <td>0.750563</td>\n",
       "    </tr>\n",
       "    <tr>\n",
       "      <th>student</th>\n",
       "      <td>0.089</td>\n",
       "      <td>0.118</td>\n",
       "      <td>0.628031</td>\n",
       "      <td>0.748130</td>\n",
       "    </tr>\n",
       "  </tbody>\n",
       "</table>\n",
       "</div>"
      ],
      "text/plain": [
       "               err_lb  err_ub        lb        ub\n",
       "alpha tt                                         \n",
       "0.05  normal    0.030   0.028  0.603083  0.785184\n",
       "      quant     0.022   0.042  0.596081  0.776209\n",
       "      student   0.015   0.048  0.588746  0.774657\n",
       "0.10  normal    0.062   0.052  0.617722  0.770546\n",
       "      quant     0.049   0.061  0.613212  0.764671\n",
       "      student   0.040   0.063  0.607300  0.762554\n",
       "0.20  normal    0.110   0.102  0.634599  0.753669\n",
       "      quant     0.104   0.110  0.632474  0.750563\n",
       "      student   0.089   0.118  0.628031  0.748130"
      ]
     },
     "execution_count": 8,
     "metadata": {},
     "output_type": "execute_result"
    }
   ],
   "source": [
    "df_sim.groupby(['alpha','tt']).apply(lambda x: pd.Series({'err_lb':np.mean(rho_gt < x.lb),\n",
    "                                                          'err_ub':np.mean(rho_gt > x.ub),\n",
    "                                                          'lb':x.lb.mean(),'ub':x.ub.mean()}))"
   ]
  },
  {
   "cell_type": "code",
   "execution_count": 9,
   "metadata": {},
   "outputs": [],
   "source": [
    "from arch.bootstrap import IIDBootstrap"
   ]
  },
  {
   "cell_type": "code",
   "execution_count": 10,
   "metadata": {},
   "outputs": [],
   "source": [
    "# holder = np.zeros([nsim, 2])\n",
    "# for i in range(nsim):\n",
    "#     x = np.random.randn(n)\n",
    "#     y = stats.norm.cdf(x) + np.random.rand(n)    "
   ]
  },
  {
   "cell_type": "code",
   "execution_count": 11,
   "metadata": {},
   "outputs": [
    {
     "data": {
      "text/plain": [
       "array([[0.49256373],\n",
       "       [0.72761943]])"
      ]
     },
     "execution_count": 11,
     "metadata": {},
     "output_type": "execute_result"
    }
   ],
   "source": [
    "bs = IIDBootstrap(x=x,y=y)\n",
    "bs.conf_int(func=srho, reps=1000,method='bca',size=0.95)"
   ]
  },
  {
   "cell_type": "code",
   "execution_count": 12,
   "metadata": {},
   "outputs": [
    {
     "name": "stdout",
     "output_type": "stream",
     "text": [
      "SpearmanrResult(correlation=0.6223942394239423, pvalue=4.754313796782138e-12)\n",
      "0.6223942394239425\n"
     ]
    }
   ],
   "source": [
    "print(stats.spearmanr(x, y))\n",
    "print(pairwise_cor(cvec(stats.rankdata(x)), cvec(stats.rankdata(y)))[0])"
   ]
  },
  {
   "cell_type": "code",
   "execution_count": null,
   "metadata": {},
   "outputs": [],
   "source": []
  },
  {
   "cell_type": "code",
   "execution_count": null,
   "metadata": {},
   "outputs": [],
   "source": []
  },
  {
   "cell_type": "code",
   "execution_count": null,
   "metadata": {},
   "outputs": [],
   "source": []
  },
  {
   "cell_type": "code",
   "execution_count": null,
   "metadata": {},
   "outputs": [],
   "source": []
  },
  {
   "cell_type": "code",
   "execution_count": null,
   "metadata": {},
   "outputs": [],
   "source": []
  }
 ],
 "metadata": {
  "kernelspec": {
   "display_name": "Python 3",
   "language": "python",
   "name": "python3"
  },
  "language_info": {
   "codemirror_mode": {
    "name": "ipython",
    "version": 3
   },
   "file_extension": ".py",
   "mimetype": "text/x-python",
   "name": "python",
   "nbconvert_exporter": "python",
   "pygments_lexer": "ipython3",
   "version": "3.7.6"
  }
 },
 "nbformat": 4,
 "nbformat_minor": 2
}
