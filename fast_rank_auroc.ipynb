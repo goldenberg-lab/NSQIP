{
 "cells": [
  {
   "cell_type": "code",
   "execution_count": 5,
   "metadata": {},
   "outputs": [],
   "source": [
    "import numpy as np\n",
    "import pandas as pd\n",
    "from scipy import stats\n",
    "import plotnine\n",
    "from plotnine import *\n",
    "import seaborn as sns"
   ]
  },
  {
   "cell_type": "code",
   "execution_count": 2,
   "metadata": {},
   "outputs": [],
   "source": [
    "def rvec(x):\n",
    "    return np.atleast_2d(x)\n",
    "\n",
    "def cvec(x):\n",
    "    return rvec(x).T\n",
    "\n",
    "# Function to do fast pairwise correlation\n",
    "def pairwise_cor(A, B):\n",
    "    assert A.shape == B.shape\n",
    "    n = A.shape[0]\n",
    "    mu_A, mu_B = rvec(A.mean(0)), rvec(B.mean(0))\n",
    "    D = np.sum((A - mu_A) * (B - mu_B),0) / (n-1)\n",
    "    se_A, se_B = A.std(axis=0,ddof=1), B.std(axis=0,ddof=1)\n",
    "    return D / (se_A*se_B)\n"
   ]
  },
  {
   "cell_type": "code",
   "execution_count": 3,
   "metadata": {},
   "outputs": [],
   "source": [
    "def student_bootstrap_pairwise(x, y, n_bs, seed=None):\n",
    "    if seed is not None:\n",
    "        np.random.seed(seed)\n",
    "    x_bs = pd.Series(x).sample(frac=n_bs,replace=True)\n",
    "    y_bs = pd.Series(y).iloc[x_bs.index]"
   ]
  },
  {
   "cell_type": "code",
   "execution_count": 13,
   "metadata": {},
   "outputs": [],
   "source": [
    "seed = 1234\n",
    "\n",
    "np.random.seed(seed)\n",
    "n = 10\n",
    "x = np.sin(np.random.randn(n))\n",
    "y = x + 2*np.random.rand(n)"
   ]
  },
  {
   "cell_type": "code",
   "execution_count": 14,
   "metadata": {},
   "outputs": [
    {
     "data": {
      "text/plain": [
       "(0.7432765509021033, 0.013752600958842473)"
      ]
     },
     "execution_count": 14,
     "metadata": {},
     "output_type": "execute_result"
    }
   ],
   "source": [
    "stats.pearsonr(y, x)"
   ]
  },
  {
   "cell_type": "code",
   "execution_count": null,
   "metadata": {},
   "outputs": [],
   "source": []
  },
  {
   "cell_type": "code",
   "execution_count": null,
   "metadata": {},
   "outputs": [],
   "source": []
  },
  {
   "cell_type": "code",
   "execution_count": null,
   "metadata": {},
   "outputs": [],
   "source": []
  },
  {
   "cell_type": "code",
   "execution_count": null,
   "metadata": {},
   "outputs": [],
   "source": []
  }
 ],
 "metadata": {
  "kernelspec": {
   "display_name": "Python 3",
   "language": "python",
   "name": "python3"
  },
  "language_info": {
   "codemirror_mode": {
    "name": "ipython",
    "version": 3
   },
   "file_extension": ".py",
   "mimetype": "text/x-python",
   "name": "python",
   "nbconvert_exporter": "python",
   "pygments_lexer": "ipython3",
   "version": "3.7.1"
  }
 },
 "nbformat": 4,
 "nbformat_minor": 2
}
