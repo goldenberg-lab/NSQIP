{
 "cells": [
  {
   "cell_type": "markdown",
   "metadata": {},
   "source": [
    "# Run the \"best\" models on the validation data"
   ]
  },
  {
   "cell_type": "code",
   "execution_count": 1,
   "metadata": {},
   "outputs": [],
   "source": [
    "import importlib\n",
    "\n",
    "# Load modules\n",
    "import os\n",
    "import sys\n",
    "from time import time\n",
    "from scipy import stats\n",
    "import pandas as pd\n",
    "import numpy as np\n",
    "import plotnine\n",
    "from plotnine import *\n",
    "from scipy.stats import rankdata\n",
    "from time import time\n",
    "\n",
    "# Load the help functions\n",
    "import support.acc_funs\n",
    "importlib.reload(support.acc_funs)\n",
    "# from support.acc_funs import fast_auc, fast_decomp, write_fast_decomp, write_fast_inference, gen_CI\n",
    "# from support.support_funs import makeifnot, decomp_var\n",
    "from support.get_cpt_annotations import cpt_desciptions\n",
    "\n",
    "# Set directories\n",
    "dir_base = os.getcwd()\n",
    "dir_NSQIP = os.path.join(dir_base,'..')\n",
    "dir_output = os.path.join(dir_NSQIP, 'output')\n",
    "dir_figures = os.path.join(dir_NSQIP, 'figures')\n",
    "\n",
    "cpt_trans = cpt_desciptions()"
   ]
  },
  {
   "cell_type": "code",
   "execution_count": null,
   "metadata": {},
   "outputs": [],
   "source": []
  },
  {
   "cell_type": "code",
   "execution_count": null,
   "metadata": {},
   "outputs": [],
   "source": []
  },
  {
   "cell_type": "code",
   "execution_count": null,
   "metadata": {},
   "outputs": [],
   "source": []
  },
  {
   "cell_type": "code",
   "execution_count": null,
   "metadata": {},
   "outputs": [],
   "source": []
  },
  {
   "cell_type": "code",
   "execution_count": null,
   "metadata": {},
   "outputs": [],
   "source": []
  },
  {
   "cell_type": "code",
   "execution_count": null,
   "metadata": {},
   "outputs": [],
   "source": []
  },
  {
   "cell_type": "code",
   "execution_count": null,
   "metadata": {},
   "outputs": [],
   "source": []
  },
  {
   "cell_type": "code",
   "execution_count": null,
   "metadata": {},
   "outputs": [],
   "source": []
  }
 ],
 "metadata": {
  "kernelspec": {
   "display_name": "Python 3",
   "language": "python",
   "name": "python3"
  },
  "language_info": {
   "codemirror_mode": {
    "name": "ipython",
    "version": 3
   },
   "file_extension": ".py",
   "mimetype": "text/x-python",
   "name": "python",
   "nbconvert_exporter": "python",
   "pygments_lexer": "ipython3",
   "version": "3.7.1"
  }
 },
 "nbformat": 4,
 "nbformat_minor": 2
}
