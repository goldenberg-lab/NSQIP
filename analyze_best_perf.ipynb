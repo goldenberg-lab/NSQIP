{
 "cells": [
  {
   "cell_type": "markdown",
   "metadata": {},
   "source": [
    "# Analyze the best performing models of each type"
   ]
  },
  {
   "cell_type": "code",
   "execution_count": 1,
   "metadata": {},
   "outputs": [],
   "source": [
    "# Load modules\n",
    "import os\n",
    "import sys\n",
    "import pandas as pd\n",
    "import numpy as np\n",
    "import plotnine\n",
    "from plotnine import *\n",
    "# Load the help functions\n",
    "from support.acc_funs import fast_auc, fast_decomp\n",
    "\n",
    "from scipy.stats import rankdata\n",
    "from time import time\n",
    "\n",
    "# Set directories\n",
    "dir_base = os.getcwd()\n",
    "dir_NSQIP = os.path.join(dir_base,'..')\n",
    "dir_output = os.path.join(dir_NSQIP, 'output')\n",
    "\n",
    "di_model = {'xgb':'XGB', 'logit':'LR', 'rf':'RF'}"
   ]
  },
  {
   "cell_type": "code",
   "execution_count": 2,
   "metadata": {},
   "outputs": [],
   "source": [
    "# from sklearn.metrics import roc_auc_score\n",
    "# from timeit import timeit\n",
    "# from support.acc_funs import auc_decomp, auc, fast_auc, fast_decomp\n",
    "\n",
    "# n = 1000\n",
    "# y = np.random.binomial(1,0.5,n)\n",
    "# s = np.random.randn(n)\n",
    "# g = np.argmax(np.random.multinomial(1,[0.4,0.4,0.2],n),1)\n",
    "# df = pd.DataFrame({'y':y, 's':s, 'g':g})\n",
    "# a_fast, a_old = fast_auc(y,s), auc(y,s)\n",
    "# d_fast, d_old = auc_decomp(y, s, g), fast_decomp(y, s, g)\n",
    "# num = 100\n",
    "# t_a_fast = timeit(stmt='fast_auc(y,s)',number=num,globals=globals())\n",
    "# t_a_old = timeit(stmt='auc(y,s)',number=num,globals=globals())\n",
    "# t_df_fast = timeit(stmt='fast_decomp(y, s, g)',number=num,globals=globals())\n",
    "# t_df_old = timeit(stmt='auc_decomp(y, s, g)',number=num,globals=globals())\n",
    "\n",
    "# print('AUROC: fast=%0.3f, old=%0.3f' % (a_fast, a_old))\n",
    "# print(d_fast.merge(d_old,'left','tt'))\n",
    "# print('Timing: fast AUROC=%0.3f, old AUROC=%0.3f' % (t_a_fast, t_a_old))\n",
    "# print('Timing: fast decomp=%0.3f, old decomp=%0.3f' % (t_df_fast, t_df_old))"
   ]
  },
  {
   "cell_type": "code",
   "execution_count": 3,
   "metadata": {},
   "outputs": [
    {
     "name": "stdout",
     "output_type": "stream",
     "text": [
      "        tt       auc  den\n",
      "0    total  0.966667   15\n",
      "1   within  0.900000    5\n",
      "2  between  1.000000   10\n"
     ]
    }
   ],
   "source": [
    "# Dummy data to make sure fast approximations line up\n",
    "y = np.array([1,1,1,0,0,0,0,0])\n",
    "s = np.array([6,5,7,5,3,2,2,1])\n",
    "g = np.array(['a','a','b','a','b','b','b','c'])\n",
    "print(fast_decomp(y,s,g))"
   ]
  },
  {
   "cell_type": "markdown",
   "metadata": {},
   "source": [
    "### (1) Load in data"
   ]
  },
  {
   "cell_type": "code",
   "execution_count": 4,
   "metadata": {},
   "outputs": [
    {
     "name": "stdout",
     "output_type": "stream",
     "text": [
      "Loading large CSV file\n"
     ]
    }
   ],
   "source": [
    "fn_output = pd.Series(os.listdir(dir_output))\n",
    "fn_best = fn_output[fn_output.str.contains('.csv$') & fn_output.str.contains('^best')].reset_index(None,True)\n",
    "\n",
    "fn_csv = 'df_best.csv'\n",
    "check = fn_csv in os.listdir(dir_output)\n",
    "if not check:\n",
    "    print('Loading data via loop')\n",
    "    holder = []\n",
    "    cn_keep = ['model','outcome','test_year','cpt','y','preds']\n",
    "    for fn in fn_best:\n",
    "        print('Loading file: %s' % fn)\n",
    "        path = os.path.join(dir_output, fn)\n",
    "        tmp_df = pd.read_csv(path, usecols=cn_keep)  #, nrows=10\n",
    "        tmp_df.rename(columns={'model':'method'},inplace=True)\n",
    "        mdl = fn.split('.')[0].split('_')[-1]\n",
    "        tmp_df.insert(0,'model',mdl)\n",
    "        holder.append(tmp_df)\n",
    "        del tmp_df\n",
    "        #break\n",
    "    df_nsqip = pd.concat(holder).reset_index(None, True)\n",
    "    del holder\n",
    "    df_nsqip.to_csv(os.path.join(dir_output, fn_csv), index=False)\n",
    "else:\n",
    "    print('Loading large CSV file')\n",
    "    df_nsqip = pd.read_csv(os.path.join(dir_output, fn_csv))"
   ]
  },
  {
   "cell_type": "markdown",
   "metadata": {},
   "source": [
    "### (2) Get the decomposed scores"
   ]
  },
  {
   "cell_type": "code",
   "execution_count": 30,
   "metadata": {},
   "outputs": [
    {
     "name": "stdout",
     "output_type": "stream",
     "text": [
      "Loading decomposition\n"
     ]
    }
   ],
   "source": [
    "cn_gg = ['model','test_year','outcome','method']\n",
    "\n",
    "fn_decomp = 'dat_decomp.csv'\n",
    "check = fn_decomp in os.listdir(dir_output)\n",
    "if not check:\n",
    "    print('Running decomposition')\n",
    "    stime = time()\n",
    "    dat_decomp = df_nsqip.groupby(cn_gg).apply(lambda x: fast_decomp(x.y.values, x.preds.values, x.cpt.values))\n",
    "    dtime = time() - stime\n",
    "    print('Took %0.1f seconds to run decomp' % dtime)\n",
    "    dat_decomp.to_csv(os.path.join(dir_output, fn_decomp), index=False)\n",
    "else:\n",
    "    print('Loading decomposition')\n",
    "    dat_decomp = pd.read_csv(os.path.join(dir_output, fn_decomp))"
   ]
  },
  {
   "cell_type": "code",
   "execution_count": 21,
   "metadata": {},
   "outputs": [
    {
     "data": {
      "text/plain": [
       "0      1\n",
       "1      1\n",
       "2      1\n",
       "3      1\n",
       "4      1\n",
       "      ..\n",
       "895    2\n",
       "896    2\n",
       "897    2\n",
       "898    2\n",
       "899    2\n",
       "Name: outcome, Length: 900, dtype: object"
      ]
     },
     "execution_count": 21,
     "metadata": {},
     "output_type": "execute_result"
    }
   ],
   "source": [
    "# di_method = {'agg':'Aggregate', 'sub':'Subset'}\n",
    "di_outcome = {}\n",
    "# Clean up the outcome\n",
    "\n",
    "# dat_decomp = dat_decomp.reset_index().drop(columns='level_'+str(len(cn_gg)))\n",
    "# dat_decomp.outcome = dat_decomp.outcome.str.replace('agg_','')\n",
    "# dat_decomp.outcome.str.replace('[^0-9]','')"
   ]
  },
  {
   "cell_type": "code",
   "execution_count": null,
   "metadata": {},
   "outputs": [],
   "source": []
  },
  {
   "cell_type": "code",
   "execution_count": null,
   "metadata": {},
   "outputs": [],
   "source": []
  },
  {
   "cell_type": "code",
   "execution_count": null,
   "metadata": {},
   "outputs": [],
   "source": []
  },
  {
   "cell_type": "code",
   "execution_count": null,
   "metadata": {},
   "outputs": [],
   "source": []
  },
  {
   "cell_type": "code",
   "execution_count": null,
   "metadata": {},
   "outputs": [],
   "source": []
  },
  {
   "cell_type": "code",
   "execution_count": null,
   "metadata": {},
   "outputs": [],
   "source": []
  }
 ],
 "metadata": {
  "kernelspec": {
   "display_name": "Python 3",
   "language": "python",
   "name": "python3"
  },
  "language_info": {
   "codemirror_mode": {
    "name": "ipython",
    "version": 3
   },
   "file_extension": ".py",
   "mimetype": "text/x-python",
   "name": "python",
   "nbconvert_exporter": "python",
   "pygments_lexer": "ipython3",
   "version": "3.7.1"
  }
 },
 "nbformat": 4,
 "nbformat_minor": 2
}
